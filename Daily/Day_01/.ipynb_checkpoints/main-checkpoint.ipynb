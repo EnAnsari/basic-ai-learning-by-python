{
 "cells": [
  {
   "cell_type": "code",
   "execution_count": 1,
   "id": "1b2adb73",
   "metadata": {},
   "outputs": [
    {
     "data": {
      "text/html": [
       "<div>\n",
       "<style scoped>\n",
       "    .dataframe tbody tr th:only-of-type {\n",
       "        vertical-align: middle;\n",
       "    }\n",
       "\n",
       "    .dataframe tbody tr th {\n",
       "        vertical-align: top;\n",
       "    }\n",
       "\n",
       "    .dataframe thead th {\n",
       "        text-align: right;\n",
       "    }\n",
       "</style>\n",
       "<table border=\"1\" class=\"dataframe\">\n",
       "  <thead>\n",
       "    <tr style=\"text-align: right;\">\n",
       "      <th></th>\n",
       "      <th>id</th>\n",
       "      <th>value</th>\n",
       "      <th>count</th>\n",
       "    </tr>\n",
       "  </thead>\n",
       "  <tbody>\n",
       "    <tr>\n",
       "      <th>0</th>\n",
       "      <td>1</td>\n",
       "      <td>test1</td>\n",
       "      <td>5</td>\n",
       "    </tr>\n",
       "    <tr>\n",
       "      <th>1</th>\n",
       "      <td>2</td>\n",
       "      <td>test2</td>\n",
       "      <td>6</td>\n",
       "    </tr>\n",
       "    <tr>\n",
       "      <th>2</th>\n",
       "      <td>3</td>\n",
       "      <td>test3</td>\n",
       "      <td>7</td>\n",
       "    </tr>\n",
       "    <tr>\n",
       "      <th>3</th>\n",
       "      <td>4</td>\n",
       "      <td>test4</td>\n",
       "      <td>9</td>\n",
       "    </tr>\n",
       "    <tr>\n",
       "      <th>4</th>\n",
       "      <td>5</td>\n",
       "      <td>test5</td>\n",
       "      <td>1</td>\n",
       "    </tr>\n",
       "  </tbody>\n",
       "</table>\n",
       "</div>"
      ],
      "text/plain": [
       "   id  value  count\n",
       "0   1  test1      5\n",
       "1   2  test2      6\n",
       "2   3  test3      7\n",
       "3   4  test4      9\n",
       "4   5  test5      1"
      ]
     },
     "execution_count": 1,
     "metadata": {},
     "output_type": "execute_result"
    }
   ],
   "source": [
    "%matplotlib inline\n",
    "import pandas as pd\n",
    "result = pd.read_csv('my_data.csv')\n",
    "result.head()"
   ]
  },
  {
   "cell_type": "code",
   "execution_count": 2,
   "id": "1c317cf4",
   "metadata": {},
   "outputs": [
    {
     "data": {
      "text/plain": [
       "25151.410676552176"
      ]
     },
     "execution_count": 2,
     "metadata": {},
     "output_type": "execute_result"
    }
   ],
   "source": [
    "import numpy as np\n",
    "numbers = np.random.normal(25000, 15000, 20000)\n",
    "np.mean(numbers)"
   ]
  },
  {
   "cell_type": "code",
   "execution_count": 5,
   "id": "6599bbf9",
   "metadata": {},
   "outputs": [
    {
     "data": {
      "image/png": "[encoded data removed]",
      "text/plain": [
       "<Figure size 432x288 with 1 Axes>"
      ]
     },
     "metadata": {
      "needs_background": "light"
     },
     "output_type": "display_data"
    },
    {
     "data": {
      "text/plain": [
       "25111.92640135956"
      ]
     },
     "execution_count": 5,
     "metadata": {},
     "output_type": "execute_result"
    }
   ],
   "source": [
    "%matplotlib inline\n",
    "import matplotlib.pyplot as plt\n",
    "plt.hist(numbers, 200)\n",
    "plt.show()\n",
    "np.median(numbers)"
   ]
  },
  {
   "cell_type": "code",
   "execution_count": 4,
   "id": "5b31c089",
   "metadata": {},
   "outputs": [
    {
     "data": {
      "text/plain": [
       "4.0"
      ]
     },
     "execution_count": 4,
     "metadata": {},
     "output_type": "execute_result"
    }
   ],
   "source": [
    "np.mean([3, 4, 5])"
   ]
  },
  {
   "cell_type": "code",
   "execution_count": 7,
   "id": "1fd47ce9",
   "metadata": {},
   "outputs": [
    {
     "data": {
      "text/plain": [
       "25113.330593724055"
      ]
     },
     "execution_count": 7,
     "metadata": {},
     "output_type": "execute_result"
    }
   ],
   "source": [
    "numbers = np.append(numbers, [1000000000])\n",
    "np.median(numbers)"
   ]
  },
  {
   "cell_type": "code",
   "execution_count": 8,
   "id": "a7f6f6f1",
   "metadata": {},
   "outputs": [
    {
     "data": {
      "text/plain": [
       "125128.31970890473"
      ]
     },
     "execution_count": 8,
     "metadata": {},
     "output_type": "execute_result"
    }
   ],
   "source": [
    "np.mean(numbers)"
   ]
  },
  {
   "cell_type": "code",
   "execution_count": 3,
   "id": "1ab5fda7",
   "metadata": {},
   "outputs": [
    {
     "data": {
      "text/plain": [
       "array([24, 22, 61, 33, 75, 74, 23, 69, 21, 46, 47, 26, 50, 27, 53, 77, 42,\n",
       "       67, 34, 75, 81, 74, 40, 27, 22, 32, 88, 87, 77, 82, 68, 70, 87, 45,\n",
       "       35, 88, 35, 66, 34, 30, 21, 55, 69, 68, 69, 77, 40, 58, 49, 75, 60,\n",
       "       25, 51, 65, 18, 86, 61, 34, 54, 66, 67, 68, 65, 34, 44, 42, 58, 55,\n",
       "       30, 84, 19, 20, 58, 75, 83, 75, 25, 78, 26, 32, 51, 75, 62, 38, 34,\n",
       "       79, 35, 71, 76, 35, 38, 51, 79, 29, 51, 43, 76, 33, 41, 80, 70, 62,\n",
       "       54, 54, 79, 22, 54, 65, 52, 68, 70, 49, 65, 62, 80, 26, 57, 60, 39,\n",
       "       45, 47, 71, 70, 39, 22, 32, 50, 33, 31, 82, 77, 23, 40, 39, 88, 75,\n",
       "       46, 78, 73, 79, 36, 70, 89, 18, 75, 29, 86, 86, 87, 84, 80, 77, 49,\n",
       "       85, 43, 36, 70, 36, 87, 75, 28, 52, 70, 79, 79, 20, 45, 78, 78, 83,\n",
       "       24, 52, 73, 31, 20, 50, 50, 60, 43, 51, 49, 50, 43, 31, 87, 44, 22,\n",
       "       20, 66, 84, 58, 63, 74, 32, 30, 84, 66, 18, 24, 83, 20, 33, 23, 89,\n",
       "       19, 43, 29, 79, 18, 86, 87, 87, 38, 20, 79, 63, 70, 82, 51, 70, 66,\n",
       "       32, 22, 36, 64, 30, 43, 60, 41, 35, 66, 66, 30, 39, 60, 87, 69, 24,\n",
       "       80, 64, 52, 73, 35, 30, 28, 58, 45, 85, 37, 64, 55, 50, 18, 50, 37,\n",
       "       38, 64, 67, 54, 25, 68, 77, 57, 72, 60, 77, 40, 81, 29, 21, 32, 28,\n",
       "       40, 73, 25, 80, 76, 27, 19, 26, 37, 50, 21, 61, 54, 54, 89, 65, 76,\n",
       "       68, 28, 56, 19, 79, 78, 51, 41, 42, 75, 58, 33, 31, 75, 85, 65, 26,\n",
       "       84, 47, 51, 29, 33, 84, 73, 52, 65, 48, 24, 81, 50, 35, 60, 21, 37,\n",
       "       34, 20, 21, 39, 71, 73, 38, 74, 26, 28, 77, 62, 23, 37, 56, 87, 49,\n",
       "       75, 72, 32, 57, 23, 48, 82, 56, 68, 30, 18, 68, 66, 49, 25, 68, 30,\n",
       "       44, 54, 55, 30, 84, 54, 74, 57, 89, 46, 79, 41, 26, 62, 84, 41, 45,\n",
       "       77, 76, 23, 77, 45, 86, 50, 21, 23, 34, 47, 45, 53, 79, 50, 85, 53,\n",
       "       66, 52, 44, 21, 86, 42, 40, 56, 36, 44, 75, 27, 45, 27, 80, 36, 75,\n",
       "       77, 85, 36, 60, 57, 28, 41, 27, 62, 84, 43, 46, 79, 79, 69, 89, 62,\n",
       "       85, 82, 83, 66, 84, 22, 68, 70, 68, 85, 85, 20, 30, 26, 18, 83, 24,\n",
       "       41, 86, 60, 51, 36, 55, 31, 57, 70, 30, 65, 54, 71, 45, 27, 66, 48,\n",
       "       88, 42, 81, 21, 31, 81, 55, 85, 56, 48, 48, 89, 64, 38, 84, 20, 59,\n",
       "       18, 89, 68, 75, 57, 64, 21, 50, 89, 81, 86, 59, 65, 81, 70, 83, 80,\n",
       "       59, 88, 88, 46, 71, 23, 22])"
      ]
     },
     "execution_count": 3,
     "metadata": {},
     "output_type": "execute_result"
    }
   ],
   "source": [
    "ages = np.random.randint(18, 90, 500)\n",
    "ages"
   ]
  },
  {
   "cell_type": "code",
   "execution_count": 4,
   "id": "92a88444",
   "metadata": {},
   "outputs": [
    {
     "name": "stderr",
     "output_type": "stream",
     "text": [
      "C:\\Users\\Rahmat\\AppData\\Local\\Temp\\ipykernel_12864\\2994774060.py:2: FutureWarning: Unlike other reduction functions (e.g. `skew`, `kurtosis`), the default behavior of `mode` typically preserves the axis it acts along. In SciPy 1.11.0, this behavior will change: the default value of `keepdims` will become False, the `axis` over which the statistic is taken will be eliminated, and the value None will no longer be accepted. Set `keepdims` to True or False to avoid this warning.\n",
      "  stats.mode(ages)\n"
     ]
    },
    {
     "data": {
      "text/plain": [
       "ModeResult(mode=array([75]), count=array([15]))"
      ]
     },
     "execution_count": 4,
     "metadata": {},
     "output_type": "execute_result"
    }
   ],
   "source": [
    "from scipy import stats\n",
    "stats.mode(ages)"
   ]
  },
  {
   "cell_type": "code",
   "execution_count": null,
   "id": "11b8771f",
   "metadata": {},
   "outputs": [],
   "source": []
  },
  {
   "cell_type": "code",
   "execution_count": null,
   "id": "15761ede",
   "metadata": {},
   "outputs": [],
   "source": []
  }
 ],
 "metadata": {
  "kernelspec": {
   "display_name": "Python 3 (ipykernel)",
   "language": "python",
   "name": "python3"
  },
  "language_info": {
   "codemirror_mode": {
    "name": "ipython",
    "version": 3
   },
   "file_extension": ".py",
   "mimetype": "text/x-python",
   "name": "python",
   "nbconvert_exporter": "python",
   "pygments_lexer": "ipython3",
   "version": "3.10.4"
  },
  "vscode": {
   "interpreter": {
    "hash": "26de051ba29f2982a8de78e945f0abaf191376122a1563185a90213a26c5da77"
   }
  }
 },
 "nbformat": 4,
 "nbformat_minor": 5
}
