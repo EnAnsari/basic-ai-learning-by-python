{
 "cells": [
  {
   "cell_type": "code",
   "execution_count": 1,
   "id": "1f572beb",
   "metadata": {},
   "outputs": [],
   "source": [
    "from numpy import random\n",
    "random.seed(0)\n",
    "\n",
    "totals = {20:0, 30:0, 40:0, 50:0, 60:0, 70:0}\n",
    "purchases = {20:0, 30:0, 40:0, 50:0, 60:0, 70:0}\n",
    "totalPurchases = 0\n",
    "\n",
    "for person in range(100000):\n",
    "    age = random.choice([20, 30, 40, 50, 60, 70])\n",
    "    purchasesProbability = float(age) / 100.0\n",
    "    totals[age] += 1\n",
    "    if random.random() < purchasesProbability:\n",
    "        totalPurchases += 1\n",
    "        purchases[age] += 1"
   ]
  },
  {
   "cell_type": "code",
   "execution_count": 2,
   "id": "a802cd01",
   "metadata": {},
   "outputs": [
    {
     "data": {
      "text/plain": [
       "{20: 16576, 30: 16619, 40: 16632, 50: 16805, 60: 16664, 70: 16704}"
      ]
     },
     "execution_count": 2,
     "metadata": {},
     "output_type": "execute_result"
    }
   ],
   "source": [
    "totals"
   ]
  },
  {
   "cell_type": "code",
   "execution_count": 3,
   "id": "800b799a",
   "metadata": {},
   "outputs": [
    {
     "data": {
      "text/plain": [
       "{20: 3392, 30: 4974, 40: 6670, 50: 8319, 60: 9944, 70: 11713}"
      ]
     },
     "execution_count": 3,
     "metadata": {},
     "output_type": "execute_result"
    }
   ],
   "source": [
    "purchases"
   ]
  },
  {
   "cell_type": "code",
   "execution_count": 4,
   "id": "91e09e73",
   "metadata": {},
   "outputs": [
    {
     "name": "stdout",
     "output_type": "stream",
     "text": [
      "0.417022004702574\n",
      "0.417022004702574\n"
     ]
    }
   ],
   "source": [
    "random.seed(1)\n",
    "print(random.random())\n",
    "\n",
    "random.seed(1)\n",
    "print(random.random())"
   ]
  },
  {
   "cell_type": "code",
   "execution_count": 5,
   "id": "565f2b6c",
   "metadata": {},
   "outputs": [
    {
     "data": {
      "text/plain": [
       "45012"
      ]
     },
     "execution_count": 5,
     "metadata": {},
     "output_type": "execute_result"
    }
   ],
   "source": [
    "totalPurchases"
   ]
  },
  {
   "cell_type": "code",
   "execution_count": 6,
   "id": "715cbf07",
   "metadata": {},
   "outputs": [
    {
     "data": {
      "text/plain": [
       "0.29929598652145134"
      ]
     },
     "execution_count": 6,
     "metadata": {},
     "output_type": "execute_result"
    }
   ],
   "source": [
    "#p => probability\n",
    "#E => purchases\n",
    "#F => people\n",
    "PEF = float(purchases[30]) / float(totals[30])\n",
    "PEF"
   ]
  },
  {
   "cell_type": "code",
   "execution_count": 8,
   "id": "f1f7bb3a",
   "metadata": {},
   "outputs": [
    {
     "data": {
      "text/plain": [
       "0.16619"
      ]
     },
     "execution_count": 8,
     "metadata": {},
     "output_type": "execute_result"
    }
   ],
   "source": [
    "PF = float(totals[30]) / 100000.0\n",
    "PF"
   ]
  },
  {
   "cell_type": "code",
   "execution_count": 9,
   "id": "82ecf14d",
   "metadata": {},
   "outputs": [
    {
     "data": {
      "text/plain": [
       "0.45012"
      ]
     },
     "execution_count": 9,
     "metadata": {},
     "output_type": "execute_result"
    }
   ],
   "source": [
    "PE = float(totalPurchases) / 100000.0\n",
    "PE"
   ]
  },
  {
   "cell_type": "code",
   "execution_count": 11,
   "id": "e14bdecd",
   "metadata": {},
   "outputs": [
    {
     "name": "stdout",
     "output_type": "stream",
     "text": [
      "30, purchases 0.04974\n"
     ]
    }
   ],
   "source": [
    "#p(E, F)\n",
    "print('30, purchases', str(float(purchases[30]) / 100000.0))"
   ]
  },
  {
   "cell_type": "code",
   "execution_count": null,
   "id": "7e333784",
   "metadata": {},
   "outputs": [],
   "source": []
  }
 ],
 "metadata": {
  "kernelspec": {
   "display_name": "Python 3 (ipykernel)",
   "language": "python",
   "name": "python3"
  },
  "language_info": {
   "codemirror_mode": {
    "name": "ipython",
    "version": 3
   },
   "file_extension": ".py",
   "mimetype": "text/x-python",
   "name": "python",
   "nbconvert_exporter": "python",
   "pygments_lexer": "ipython3",
   "version": "3.10.4"
  }
 },
 "nbformat": 4,
 "nbformat_minor": 5
}
